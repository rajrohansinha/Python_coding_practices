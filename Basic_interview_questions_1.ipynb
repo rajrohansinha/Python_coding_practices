{
 "cells": [
  {
   "cell_type": "markdown",
   "metadata": {},
   "source": [
    "#### Loops\n",
    "Video Outline:\n",
    "1. Introduction to Loops\n",
    "2. for Loop\n",
    "   - Iterating over a range\n",
    "   - Iterating over a string\n",
    "\n",
    "3. while Loop\n",
    "4. Loop Control Statements\n",
    "    - break\n",
    "    - continue\n",
    "    - pass\n",
    "5. Nested Loops\n",
    "6. Practical Examples and Common Errors"
   ]
  },
  {
   "cell_type": "code",
   "execution_count": 1,
   "metadata": {},
   "outputs": [
    {
     "name": "stdout",
     "output_type": "stream",
     "text": [
      "0\n",
      "1\n",
      "2\n",
      "3\n",
      "4\n"
     ]
    }
   ],
   "source": [
    "## for loop\n",
    "\n",
    "for i in range(5):\n",
    "    print(i)"
   ]
  },
  {
   "cell_type": "code",
   "execution_count": 2,
   "metadata": {},
   "outputs": [
    {
     "name": "stdout",
     "output_type": "stream",
     "text": [
      "1\n",
      "2\n",
      "3\n",
      "4\n",
      "5\n"
     ]
    }
   ],
   "source": [
    "for i in range(1,6):\n",
    "    print(i)"
   ]
  },
  {
   "cell_type": "code",
   "execution_count": 3,
   "metadata": {},
   "outputs": [
    {
     "name": "stdout",
     "output_type": "stream",
     "text": [
      "1\n",
      "3\n",
      "5\n",
      "7\n",
      "9\n"
     ]
    }
   ],
   "source": [
    "for i in range(1,10,2):\n",
    "    print(i)"
   ]
  },
  {
   "cell_type": "code",
   "execution_count": 4,
   "metadata": {},
   "outputs": [
    {
     "name": "stdout",
     "output_type": "stream",
     "text": [
      "10\n",
      "9\n",
      "8\n",
      "7\n",
      "6\n",
      "5\n",
      "4\n",
      "3\n",
      "2\n"
     ]
    }
   ],
   "source": [
    "for i in range(10,1,-1):\n",
    "    print(i)"
   ]
  },
  {
   "cell_type": "code",
   "execution_count": 5,
   "metadata": {},
   "outputs": [
    {
     "name": "stdout",
     "output_type": "stream",
     "text": [
      "10\n",
      "8\n",
      "6\n",
      "4\n",
      "2\n"
     ]
    }
   ],
   "source": [
    "for i in range(10,1,-2):\n",
    "    print(i)"
   ]
  },
  {
   "cell_type": "code",
   "execution_count": 6,
   "metadata": {},
   "outputs": [
    {
     "name": "stdout",
     "output_type": "stream",
     "text": [
      "0\n",
      "1\n",
      "2\n",
      "3\n",
      "4\n",
      "5\n",
      "6\n",
      "7\n",
      "8\n",
      "9\n"
     ]
    }
   ],
   "source": [
    "## while loop\n",
    "\n",
    "## The while loop continues to execute as long as the condition is True.\n",
    "\n",
    "count=0\n",
    "\n",
    "while count<10:\n",
    "    print(count)\n",
    "    count=count+1"
   ]
  },
  {
   "cell_type": "code",
   "execution_count": 7,
   "metadata": {},
   "outputs": [
    {
     "name": "stdout",
     "output_type": "stream",
     "text": [
      "0\n",
      "1\n",
      "3\n",
      "4\n",
      "5\n",
      "6\n",
      "7\n",
      "8\n",
      "9\n"
     ]
    }
   ],
   "source": [
    "## The continue statement skips the current iteration and continues with the next.\n",
    "for i in range(10):\n",
    "    if i==2:\n",
    "        continue\n",
    "    print(i)"
   ]
  },
  {
   "cell_type": "code",
   "execution_count": 8,
   "metadata": {},
   "outputs": [
    {
     "name": "stdout",
     "output_type": "stream",
     "text": [
      "0\n",
      "1\n",
      "2\n"
     ]
    }
   ],
   "source": [
    "for i in range(10):\n",
    "    if i==3:\n",
    "        break\n",
    "    print(i)"
   ]
  },
  {
   "cell_type": "code",
   "execution_count": 9,
   "metadata": {},
   "outputs": [
    {
     "name": "stdout",
     "output_type": "stream",
     "text": [
      "0\n",
      "1\n",
      "2\n",
      "3\n",
      "4\n",
      "5\n",
      "6\n",
      "7\n",
      "8\n",
      "9\n"
     ]
    }
   ],
   "source": [
    "## The pass statement is a null operation; it does nothing.\n",
    "\n",
    "for i in range(10):\n",
    "    if i%2==0:\n",
    "        pass\n",
    "    print(i)"
   ]
  },
  {
   "cell_type": "code",
   "execution_count": 10,
   "metadata": {},
   "outputs": [
    {
     "name": "stdout",
     "output_type": "stream",
     "text": [
      "0\n",
      "1\n",
      "2\n",
      "3\n",
      "4\n"
     ]
    }
   ],
   "source": [
    "## pass\n",
    "## The pass statement is a null operation; it does nothing.\n",
    "\n",
    "for i in range(5):\n",
    "    if i==3:\n",
    "        pass\n",
    "    print(i)"
   ]
  },
  {
   "cell_type": "code",
   "execution_count": 11,
   "metadata": {},
   "outputs": [
    {
     "name": "stdout",
     "output_type": "stream",
     "text": [
      "i:0 and j:0\n",
      "i:0 and j:1\n",
      "i:1 and j:0\n",
      "i:1 and j:1\n",
      "i:2 and j:0\n",
      "i:2 and j:1\n"
     ]
    }
   ],
   "source": [
    "## Nested loopss\n",
    "## a loop inside a loop\n",
    "\n",
    "for i in range(3):\n",
    "    for j in range(2):\n",
    "        print(f\"i:{i} and j:{j}\")"
   ]
  },
  {
   "cell_type": "code",
   "execution_count": 12,
   "metadata": {},
   "outputs": [
    {
     "name": "stdout",
     "output_type": "stream",
     "text": [
      "Sum of first 5 natural numbers is: 15\n"
     ]
    }
   ],
   "source": [
    "numbers = 5\n",
    "sum_var = 0\n",
    "count = 1 # It acts as index.\n",
    "\n",
    "while count <= numbers:\n",
    "    sum_var = sum_var + count\n",
    "    count = count + 1\n",
    "print(\"Sum of first 5 natural numbers is:\", sum_var)"
   ]
  },
  {
   "cell_type": "code",
   "execution_count": 13,
   "metadata": {},
   "outputs": [
    {
     "name": "stdout",
     "output_type": "stream",
     "text": [
      "Sum of first 5 natural numbers is: 15\n"
     ]
    }
   ],
   "source": [
    "sum_var = 0\n",
    "for i in range(1,6): # It includes 1,2,3,4,5 & excludes 6.\n",
    "    sum_var = sum_var + i\n",
    "print(\"Sum of first 5 natural numbers is:\", sum_var)"
   ]
  },
  {
   "cell_type": "code",
   "execution_count": 14,
   "metadata": {},
   "outputs": [
    {
     "name": "stdout",
     "output_type": "stream",
     "text": [
      "2\n",
      "3\n",
      "5\n",
      "7\n",
      "11\n",
      "13\n",
      "17\n",
      "19\n",
      "23\n",
      "29\n",
      "31\n",
      "37\n",
      "41\n",
      "43\n",
      "47\n",
      "53\n",
      "59\n",
      "61\n",
      "67\n",
      "71\n",
      "73\n",
      "79\n",
      "83\n",
      "89\n",
      "97\n"
     ]
    }
   ],
   "source": [
    "## Example- Prime numbers between 1 and 100\n",
    "\n",
    "for num in range(1,101):\n",
    "    if num>1:\n",
    "        for i in range(2,num):\n",
    "            if num%i==0:\n",
    "                break\n",
    "        else:\n",
    "            print(num)"
   ]
  },
  {
   "cell_type": "code",
   "execution_count": 15,
   "metadata": {},
   "outputs": [
    {
     "name": "stdout",
     "output_type": "stream",
     "text": [
      "2\n",
      "3\n",
      "5\n",
      "7\n",
      "11\n",
      "13\n",
      "17\n",
      "19\n",
      "23\n",
      "29\n",
      "31\n",
      "37\n",
      "41\n",
      "43\n",
      "47\n",
      "53\n",
      "59\n",
      "61\n",
      "67\n",
      "71\n",
      "73\n",
      "79\n",
      "83\n",
      "89\n",
      "97\n"
     ]
    }
   ],
   "source": [
    "# Loop through numbers from 0 to 100\n",
    "for no in range(101):\n",
    "    # Check if the number is greater than 1 (since prime numbers are greater than 1)\n",
    "    if no > 1:\n",
    "        # Loop through numbers from 2 to the current number (no)\n",
    "        for i in range(2, no):\n",
    "            # Check if the current number (no) is divisible by i\n",
    "            if no % i == 0:\n",
    "                # If it is divisible, it means no is not a prime number, so break the loop\n",
    "                break\n",
    "        else:\n",
    "            # If the loop completes without breaking, it means no is a prime number\n",
    "            print(no)\n",
    "\n",
    "# Example:\n",
    "# Let's take the number 7 as an example.\n",
    "# The inner loop will check if 7 is divisible by any number from 2 to 6.\n",
    "# Since 7 is not divisible by any of these numbers, it will be considered a prime number and printed.\n",
    "\n",
    "# Another example:\n",
    "# Let's take the number 10 as an example.\n",
    "# The inner loop will check if 10 is divisible by any number from 2 to 9.\n",
    "# Since 10 is divisible by 2 (10 % 2 == 0), it will not be considered a prime number and the loop will break."
   ]
  },
  {
   "cell_type": "code",
   "execution_count": 16,
   "metadata": {},
   "outputs": [
    {
     "name": "stdout",
     "output_type": "stream",
     "text": [
      "2\n",
      "3\n",
      "5\n",
      "7\n",
      "11\n",
      "13\n",
      "17\n",
      "19\n",
      "23\n",
      "29\n",
      "31\n",
      "37\n",
      "41\n",
      "43\n",
      "47\n",
      "53\n",
      "59\n",
      "61\n",
      "67\n",
      "71\n",
      "73\n",
      "79\n",
      "83\n",
      "89\n",
      "97\n"
     ]
    }
   ],
   "source": [
    "for number in range(2,101):\n",
    "    no_is_prime = True # assuming every number is a prime no\n",
    "    for i in range(2,number):\n",
    "        if number%i ==0:# If num is divisible by i\n",
    "            no_is_prime = False # num is not a prime number\n",
    "            break # Exit the inner loop\n",
    "    if no_is_prime: # If num is still considered prime\n",
    "        print(number)  # Print the prime number"
   ]
  },
  {
   "cell_type": "code",
   "execution_count": 17,
   "metadata": {},
   "outputs": [
    {
     "name": "stdout",
     "output_type": "stream",
     "text": [
      "6 is a perfect number\n",
      "28 is a perfect number\n"
     ]
    }
   ],
   "source": [
    "# Find perfect numbers between 1 to 100\n",
    "# Perfect number is a positive integer that is equal to the sum of its proper divisors (excluding itself).\n",
    "# For example, 6 is a perfect number because its divisors are 1, 2, and 3, and 1 + 2 + 3 = 6.\n",
    "\n",
    "for numbers in range(1, 101):\n",
    "    sum_of_divisors = 0  # Initialize the sum of divisors to 0\n",
    "    for i in range(1, numbers):  # Loop through numbers from 1 to the current number (excluding itself)\n",
    "        if numbers % i == 0:  # Check if i is a divisor of numbers\n",
    "            sum_of_divisors = sum_of_divisors + i  # Add the divisor to the sum\n",
    "    if sum_of_divisors == numbers:  # Check if the sum of divisors equals the number\n",
    "        print(f\"{numbers} is a perfect number\")  # Print the perfect number\n",
    "\n",
    "# Example:\n",
    "# Let's take the number 6 as an example.\n",
    "# The inner loop will check if 1, 2, 3, 4, and 5 are divisors of 6.\n",
    "# The divisors of 6 are 1, 2, and 3.\n",
    "# The sum of these divisors is 1 + 2 + 3 = 6.\n",
    "# Since the sum of the divisors equals the number, 6 is a perfect number and will be printed.\n",
    "\n",
    "# Another example:\n",
    "# Let's take the number 28 as an example.\n",
    "# The inner loop will check if 1, 2, 3, ..., 27 are divisors of 28.\n",
    "# The divisors of 28 are 1, 2, 4, 7, and 14.\n",
    "# The sum of these divisors is 1 + 2 + 4 + 7 + 14 = 28.\n",
    "# Since the sum of the divisors equals the number, 28 is a perfect number and will be printed."
   ]
  },
  {
   "cell_type": "code",
   "execution_count": 18,
   "metadata": {},
   "outputs": [
    {
     "name": "stdout",
     "output_type": "stream",
     "text": [
      "1 is an Armstrong number\n",
      "2 is an Armstrong number\n",
      "3 is an Armstrong number\n",
      "4 is an Armstrong number\n",
      "5 is an Armstrong number\n",
      "6 is an Armstrong number\n",
      "7 is an Armstrong number\n",
      "8 is an Armstrong number\n",
      "9 is an Armstrong number\n",
      "153 is an Armstrong number\n",
      "370 is an Armstrong number\n",
      "371 is an Armstrong number\n",
      "407 is an Armstrong number\n"
     ]
    }
   ],
   "source": [
    "# Armstrong number code\n",
    "for number in range(1, 1001):  # Loop through numbers from 1 to 1000\n",
    "    # Convert the number to a string to extract its digits\n",
    "    digits = str(number)\n",
    "    # Calculate the sum of the digits raised to the power of the number of digits\n",
    "    armstrong_sum = sum(int(digit) ** len(digits) for digit in digits)\n",
    "    # Check if the sum equals the original number\n",
    "    if armstrong_sum == number:\n",
    "        print(f\"{number} is an Armstrong number\")"
   ]
  },
  {
   "cell_type": "code",
   "execution_count": 19,
   "metadata": {},
   "outputs": [
    {
     "name": "stdout",
     "output_type": "stream",
     "text": [
      "Fibonacci series up to 10 terms\n",
      "0\n",
      "1\n",
      "1\n",
      "2\n",
      "3\n",
      "5\n",
      "8\n",
      "13\n",
      "21\n",
      "34\n"
     ]
    }
   ],
   "source": [
    "# Generate Fibonacci numbers up to 10 terms\n",
    "\n",
    "num_1 = 0\n",
    "num_2 = 1\n",
    "\n",
    "n = 10  # Number of terms to generate\n",
    "print(\"Fibonacci series up to\", n, \"terms\")\n",
    "\n",
    "# Print the first two numbers in the sequence\n",
    "print(num_1)\n",
    "print(num_2)\n",
    "\n",
    "# Loop to generate the remaining terms\n",
    "for i in range(n - 2):  # We have already printed the first two numbers\n",
    "    sum = num_1 + num_2  # Calculate the next number in the sequence\n",
    "    num_1 = num_2  # Update num_1 to the previous number\n",
    "    num_2 = sum  # Update num_2 to the current number\n",
    "    print(sum)  # Print the current number in the sequence"
   ]
  },
  {
   "cell_type": "code",
   "execution_count": 20,
   "metadata": {},
   "outputs": [
    {
     "name": "stdout",
     "output_type": "stream",
     "text": [
      "Factorial of number 5 is 120\n"
     ]
    }
   ],
   "source": [
    "# Factorial of a number\n",
    "\n",
    "# Input: Get the number from the user\n",
    "number = int(input(\"Enter a number: \"))\n",
    "\n",
    "# Initialize the factorial variable to 1\n",
    "factorial = 1\n",
    "\n",
    "# Loop to calculate the factorial\n",
    "for i in range(1, number + 1):\n",
    "    factorial *= i  # Multiply factorial by the current value of i\n",
    "\n",
    "# Print the result\n",
    "print(f\"Factorial of number {number} is {factorial}\")\n",
    "\n",
    "# Mathematical Explanation:\n",
    "# The factorial of a non-negative integer n is the product of all positive integers less than or equal to n.\n",
    "# For example, the factorial of 5 is calculated as follows:\n",
    "# 5! = 5 × 4 × 3 × 2 × 1 = 120\n",
    "# In the code above, we use a loop to multiply the factorial variable by each integer from 1 to the given number.\n",
    "# The loop iterates through each integer, updating the factorial variable with the product of itself and the current integer.\n",
    "# After the loop completes, the factorial variable contains the final result, which is printed.\n"
   ]
  },
  {
   "cell_type": "code",
   "execution_count": 21,
   "metadata": {},
   "outputs": [
    {
     "name": "stdout",
     "output_type": "stream",
     "text": [
      "The number entered by user is: 42\n",
      "The sum of digits in a given number is: 6\n"
     ]
    }
   ],
   "source": [
    "# Input: Get the number from the user\n",
    "# Find Sum of Digits\n",
    "\n",
    "number = int(input(\"Enter a number: \"))\n",
    "print(f\"The number entered by user is: {number}\")\n",
    "digits_of_number = str(number)\n",
    "sum_of_number = 0\n",
    "\n",
    "for i in digits_of_number:\n",
    "    sum_of_number = sum_of_number + int(i)\n",
    "print(\"The sum of digits in a given number is:\", sum_of_number)    "
   ]
  },
  {
   "cell_type": "code",
   "execution_count": 22,
   "metadata": {},
   "outputs": [
    {
     "name": "stdout",
     "output_type": "stream",
     "text": [
      "1st number:  48\n",
      "2nd number:  18\n",
      "The greatest common divisor (last positive number) of the given numbers is 6 \n"
     ]
    }
   ],
   "source": [
    "number_1 = int(input(\"Enter 1st number: \"))\n",
    "number_2 = int(input(\"Enter 2nd number: \"))\n",
    "\n",
    "print(\"1st number: \",number_1)\n",
    "print(\"2nd number: \",number_2)\n",
    "\n",
    "while number_2 !=0:\n",
    "    # number_1 = number_2\n",
    "    # number_2 = number_1 % number_2\n",
    "    ## The issue with your code is that you are updating number_1 before calculating the remainder, which causes the calculation to be incorrect. Specifically, when you update number_1 to number_2, you lose the original value of number_1 needed to calculate the remainder.\n",
    "    number_1, number_2 = number_2, number_1 % number_2\n",
    "print(f\"The greatest common divisor (last positive number) of the given numbers is {number_1} \")    "
   ]
  },
  {
   "cell_type": "code",
   "execution_count": 23,
   "metadata": {},
   "outputs": [
    {
     "name": "stdout",
     "output_type": "stream",
     "text": [
      "1st number:  48\n",
      "2nd number:  18\n",
      "The Least Common Multiple (LCM) is: 144\n"
     ]
    }
   ],
   "source": [
    "number_1 = int(input(\"Enter 1st number: \"))\n",
    "number_2 = int(input(\"Enter 2nd number: \"))\n",
    "\n",
    "print(\"1st number: \", number_1)\n",
    "print(\"2nd number: \", number_2)\n",
    "\n",
    "# Store the original numbers for LCM calculation as numbers change in below loop.\n",
    "original_num1 = number_1\n",
    "original_num2 = number_2\n",
    "\n",
    "# Calculate GCD using the Euclidean algorithm\n",
    "while number_2 != 0:\n",
    "    number_1, number_2 = number_2, number_1 % number_2\n",
    "\n",
    "# GCD is stored in number_1\n",
    "Greatest_common_divisor = number_1\n",
    "\n",
    "# Calculate LCM using the formula: LCM = (num1 * num2) // GCD\n",
    "lcm = abs(original_num1 * original_num2) // Greatest_common_divisor\n",
    "\n",
    "print(f\"The Least Common Multiple (LCM) is: {lcm}\")"
   ]
  },
  {
   "cell_type": "code",
   "execution_count": 24,
   "metadata": {},
   "outputs": [
    {
     "name": "stdout",
     "output_type": "stream",
     "text": [
      "121 is a pallindrome\n"
     ]
    }
   ],
   "source": [
    "number = int(input(\"Enter a number: \"))\n",
    "\n",
    "digits = str(number)\n",
    "reverse_digits = digits[::-1]\n",
    "\n",
    "while digits !=0:\n",
    "        if digits == reverse_digits:\n",
    "            print(f\"{number} is a pallindrome\")\n",
    "            break\n",
    "        else:\n",
    "            print(f\"{number} is not a pallindrome\")   "
   ]
  },
  {
   "cell_type": "code",
   "execution_count": 25,
   "metadata": {},
   "outputs": [
    {
     "name": "stdout",
     "output_type": "stream",
     "text": [
      "The word to check if pallindome or not is:  Rohit\n",
      "Rohit is not a pallindrome\n"
     ]
    }
   ],
   "source": [
    "word = input(\"Enter a word: \")\n",
    "print(\"The word to check if pallindome or not is: \",word)\n",
    "\n",
    "characters = str(word)\n",
    "reverse_characters = characters[::-1]\n",
    "is_pallindome = True # Flag to indicate if the word is a palindrome\n",
    "\n",
    "while is_pallindome:\n",
    "    if characters == reverse_characters:\n",
    "        print(f\"{word} is a pallindrome\")\n",
    "        break # Exit the loop if the word is a palindrome\n",
    "    else:\n",
    "        print(f\"{word} is not a pallindrome\")\n",
    "        break # Exit the loop if the word is not a palindrome"
   ]
  },
  {
   "cell_type": "code",
   "execution_count": 26,
   "metadata": {},
   "outputs": [
    {
     "name": "stdout",
     "output_type": "stream",
     "text": [
      "10\n",
      "9\n",
      "8\n",
      "7\n",
      "6\n",
      "5\n",
      "4\n",
      "3\n",
      "2\n",
      "1\n",
      "Countdown complete!\n"
     ]
    }
   ],
   "source": [
    "import time # This module is used to add a delay between each number in the countdown\n",
    "start_number = int(input(\"Enter the starting number for the countdown: \"))\n",
    "\n",
    "while start_number != 0:\n",
    "    print(start_number)\n",
    "    time.sleep(0.5)  # Wait for 0.5 second\n",
    "    start_number = start_number - 1 #Decrement the number\n",
    "print(\"Countdown complete!\")"
   ]
  },
  {
   "cell_type": "code",
   "execution_count": 27,
   "metadata": {},
   "outputs": [
    {
     "name": "stdout",
     "output_type": "stream",
     "text": [
      "The word is Shalini\n",
      "The string after removing first 3 characters is lini\n"
     ]
    }
   ],
   "source": [
    "# Input string and number of characters to remove\n",
    "\n",
    "word = input(\"Enter the word: \")\n",
    "print(\"The word is\",word)\n",
    "characters_to_remove = int(input(\"Enter the number of characters to be removed: \"))\n",
    "\n",
    "result = word[characters_to_remove:] ## Remove the first n characters\n",
    "\n",
    "print(f\"The string after removing first {characters_to_remove} characters is {result}\")"
   ]
  }
 ],
 "metadata": {
  "kernelspec": {
   "display_name": "ML_NLP_DL_GenAI_Environment",
   "language": "python",
   "name": "python3"
  },
  "language_info": {
   "codemirror_mode": {
    "name": "ipython",
    "version": 3
   },
   "file_extension": ".py",
   "mimetype": "text/x-python",
   "name": "python",
   "nbconvert_exporter": "python",
   "pygments_lexer": "ipython3",
   "version": "3.10.5"
  }
 },
 "nbformat": 4,
 "nbformat_minor": 2
}
